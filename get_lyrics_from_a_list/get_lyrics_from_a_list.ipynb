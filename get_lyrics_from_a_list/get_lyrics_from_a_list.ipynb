{
 "cells": [
  {
   "cell_type": "code",
   "execution_count": 1,
   "id": "2a87ecdf",
   "metadata": {},
   "outputs": [],
   "source": [
    "from genius_credentials import CLIENT_ID, CLIENT_SECRET, CLIENT_ACCESS_TOKEN\n",
    "\n",
    "import lyricsgenius as lg\n",
    "import re"
   ]
  },
  {
   "cell_type": "code",
   "execution_count": 2,
   "id": "705b629b",
   "metadata": {},
   "outputs": [],
   "source": [
    "genius = lg.Genius(CLIENT_ACCESS_TOKEN,\n",
    "                   skip_non_songs=True,\n",
    "                   excluded_terms=[\"(Remix)\", \"(Live)\"],\n",
    "                   remove_section_headers=True)"
   ]
  },
  {
   "cell_type": "code",
   "execution_count": 3,
   "id": "f06cdb83",
   "metadata": {},
   "outputs": [],
   "source": [
    "def get_lyrics(artist, set_list, k):\n",
    "    try:\n",
    "        songs = (genius.search_artist(artist, max_songs=k, sort=\"popularity\")).songs\n",
    "        unordered_songs = {song.title : song.lyrics for song in songs if song.title in set_list} \n",
    "        with open(f\"./lyrics/{artist}.txt\", \"w\") as file:\n",
    "            set_list_lyrics = [unordered_songs.get(title, f\"the song {title} was not found\") for title in set_list]\n",
    "            set_list_lyrics = list(map(lambda s: re.sub(r\"\\d* Contributors| Lyrics\", \"**\", s), set_list_lyrics))\n",
    "            file.write(\"\\n \\n   <|end of text|>   \\n \\n\".join(set_list_lyrics))\n",
    "            \n",
    "        not_found_songs = [s for s in set_list if s not in unordered_songs]\n",
    "        print(\"The following songs were not found:\\n \".join(not_found_songs))\n",
    "        return set_list_lyrics\n",
    "    except:\n",
    "        print(\"could not find the artist\")       "
   ]
  },
  {
   "cell_type": "code",
   "execution_count": 4,
   "id": "d298ec75",
   "metadata": {},
   "outputs": [],
   "source": [
    "artist=\"Yeah Yeah Yeahs\""
   ]
  },
  {
   "cell_type": "code",
   "execution_count": 5,
   "id": "622c03a9",
   "metadata": {},
   "outputs": [],
   "source": [
    "#the string I simply copied from setlist.fm\n",
    "s = \"\"\"Spitting Off the Edge of the World\n",
    "Play Video\n",
    "Cheated Hearts\n",
    "Play Video\n",
    "Pin\n",
    "Play Video\n",
    "Phenomena\n",
    "Play Video\n",
    "Down Boy\n",
    "Play Video\n",
    "Burning\n",
    "Play Video\n",
    "Zero\n",
    "Play Video\n",
    "Soft Shock\n",
    "Play Video\n",
    "Lovebomb\n",
    "Play Video\n",
    "Gold Lion\n",
    "Play Video\n",
    "Turn Into\n",
    "Play Video\n",
    "Maps\n",
    "Play Video\n",
    "Heads Will Roll\n",
    "Play Video\n",
    "Encore:\n",
    "Poor Song\n",
    "Play Video\n",
    "Y Control\n",
    "Play Video\n",
    "Date With the Night\"\"\""
   ]
  },
  {
   "cell_type": "code",
   "execution_count": 6,
   "id": "71da89ec",
   "metadata": {},
   "outputs": [
    {
     "data": {
      "text/plain": [
       "['Spitting Off the Edge of the World',\n",
       " 'Cheated Hearts',\n",
       " 'Pin',\n",
       " 'Phenomena',\n",
       " 'Down Boy',\n",
       " 'Burning',\n",
       " 'Zero',\n",
       " 'Soft Shock',\n",
       " 'Lovebomb',\n",
       " 'Gold Lion',\n",
       " 'Turn Into',\n",
       " 'Maps',\n",
       " 'Heads Will Roll',\n",
       " 'Poor Song',\n",
       " 'Y Control',\n",
       " 'Date With the Night']"
      ]
     },
     "execution_count": 6,
     "metadata": {},
     "output_type": "execute_result"
    }
   ],
   "source": [
    "arr = re.sub(r\"\\nPlay Video\\n|Encore:\\n\", \", \", s).split(\", \")\n",
    "arr.remove(\"\")\n",
    "arr"
   ]
  },
  {
   "cell_type": "code",
   "execution_count": 7,
   "id": "df45bf16",
   "metadata": {},
   "outputs": [
    {
     "name": "stdout",
     "output_type": "stream",
     "text": [
      "Searching for songs by Yeah Yeah Yeahs...\n",
      "\n",
      "Song 1: \"Maps\"\n",
      "Song 2: \"Heads Will Roll\"\n",
      "\"Dance Till Your Dead (Heads Will Roll Remix)\" is not valid. Skipping.\n",
      "Song 3: \"Y Control\"\n",
      "Song 4: \"Sacrilege\"\n",
      "Song 5: \"Soft Shock\"\n",
      "Song 6: \"Zero\"\n",
      "Song 7: \"Spitting Off the Edge of the World\"\n",
      "Song 8: \"Gold Lion\"\n",
      "Song 9: \"Despair\"\n",
      "\"Heads Will Roll (A-Trak Remix)\" is not valid. Skipping.\n",
      "Song 10: \"Hysteric\"\n",
      "Song 11: \"Date with the Night\"\n",
      "Song 12: \"Runaway\"\n",
      "Song 13: \"Skeletons\"\n",
      "Song 14: \"Wedding Song\"\n",
      "Song 15: \"Modern Romance\"\n",
      "Song 16: \"Black Tongue\"\n",
      "Song 17: \"Burning\"\n",
      "Song 18: \"Rich\"\n",
      "Song 19: \"Pin\"\n",
      "Song 20: \"Wolf\"\n",
      "Song 21: \"Turn Into\"\n",
      "Song 22: \"Cheated Hearts\"\n",
      "Song 23: \"Subway\"\n",
      "Song 24: \"Mosquito\"\n",
      "Song 25: \"Poor Song\"\n",
      "Song 26: \"Little Shadow\"\n",
      "Song 27: \"No No No\"\n",
      "Song 28: \"Dull Life\"\n",
      "Song 29: \"Down Boy\"\n",
      "Song 30: \"Man\"\n",
      "Song 31: \"Phenomena\"\n",
      "Song 32: \"Cold Light\"\n",
      "Song 33: \"Tick\"\n",
      "Song 34: \"Fleez\"\n",
      "Song 35: \"Dragon Queen\"\n",
      "Song 36: \"Kiss Kiss\"\n",
      "Song 37: \"Way Out\"\n",
      "Song 38: \"Under the Earth\"\n",
      "Song 39: \"Lovebomb\"\n",
      "Song 40: \"The Sweets\"\n",
      "\n",
      "Reached user-specified song limit (40).\n",
      "Done. Found 40 songs.\n",
      "Date With the Night\n"
     ]
    }
   ],
   "source": [
    "s2 = get_lyrics(artist, arr, 40)"
   ]
  }
 ],
 "metadata": {
  "kernelspec": {
   "display_name": "Python 3 (ipykernel)",
   "language": "python",
   "name": "python3"
  },
  "language_info": {
   "codemirror_mode": {
    "name": "ipython",
    "version": 3
   },
   "file_extension": ".py",
   "mimetype": "text/x-python",
   "name": "python",
   "nbconvert_exporter": "python",
   "pygments_lexer": "ipython3",
   "version": "3.11.4"
  }
 },
 "nbformat": 4,
 "nbformat_minor": 5
}
